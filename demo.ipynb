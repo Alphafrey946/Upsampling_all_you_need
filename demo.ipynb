{
 "cells": [
  {
   "cell_type": "code",
   "execution_count": 1,
   "id": "c617b35d",
   "metadata": {},
   "outputs": [],
   "source": [
    "from PIL import Image\n",
    "import argparse\n",
    "import torchvision.transforms.functional as F_\n",
    "import torch\n",
    "import torch.nn as nn\n",
    "import torch.backends.cudnn as cudnn\n",
    "import torch.optim as optim\n",
    "import torch.nn.functional as F\n",
    "import seaborn as sns\n",
    "import torchvision\n",
    "import torchvision.transforms as transforms\n",
    "\n",
    "import matplotlib.pyplot as plt\n",
    "import numpy as np\n",
    "from matplotlib import cm\n",
    "\n",
    "import sys\n",
    "import os\n",
    "import argparse\n",
    "import random\n",
    "import pickle\n",
    "\n",
    "module_path = os.path.abspath(os.path.join('/data/data_ustv/home/ydou8/Course/truly_shift_invariant_cnns/cifar10_training/'))\n",
    "if module_path not in sys.path:\n",
    "    sys.path.append(module_path)\n",
    "\n",
    "\n",
    "\n",
    "import model_classes\n",
    "\n",
    "from utils.model_functions import compute_num_params\n",
    "from utils.plot_functions import plot_save_train_val_list\n",
    "from utils.file_functions import create_folders_direct_path\n",
    "from utils.for_circular_pad_exps.get_dataloaders_circular import get_dataloaders_circular\n",
    "\n",
    "from utils.for_circular_pad_exps.train_validate_circular import train_and_validate_circular_all_epochs, evaluate_circular, evaluate_circular_flip, evaluate_circular_random_erase\n"
   ]
  },
  {
   "cell_type": "code",
   "execution_count": 58,
   "id": "343675e4",
   "metadata": {},
   "outputs": [],
   "source": [
    "def unpickle(file):\n",
    "    import pickle\n",
    "    with open(file, 'rb') as fo:\n",
    "        dict = pickle.load(fo, encoding='bytes')\n",
    "    return dict"
   ]
  },
  {
   "cell_type": "code",
   "execution_count": 59,
   "id": "80fd793b",
   "metadata": {},
   "outputs": [],
   "source": [
    "test_data = unpickle('/data/data_ustv/home/ydou8/Course/CS766/data/cifar-10-batches-py/test_batch')"
   ]
  },
  {
   "cell_type": "code",
   "execution_count": 60,
   "id": "c6a22b6e",
   "metadata": {},
   "outputs": [],
   "source": [
    "cifar_test_filenames = test_data[b'filenames']\n",
    "cifar_test_labels = test_data[b'labels']\n",
    "cifar_test_data = test_data[b'data']\n",
    "cifar_test_data  = cifar_test_data .reshape((len(cifar_test_data ), 3, 32, 32)).transpose(0, 2, 3, 1)"
   ]
  },
  {
   "cell_type": "code",
   "execution_count": 216,
   "id": "5d037175",
   "metadata": {},
   "outputs": [],
   "source": [
    "idx = 7"
   ]
  },
  {
   "cell_type": "code",
   "execution_count": 232,
   "id": "a52891d2",
   "metadata": {},
   "outputs": [
    {
     "data": {
      "text/plain": [
       "(b'green_frog_s_000634.png', 6)"
      ]
     },
     "execution_count": 232,
     "metadata": {},
     "output_type": "execute_result"
    }
   ],
   "source": [
    "cifar_test_filenames[idx], cifar_test_labels[idx]"
   ]
  },
  {
   "cell_type": "code",
   "execution_count": 233,
   "id": "9b194889",
   "metadata": {},
   "outputs": [
    {
     "data": {
      "image/png": "[encoded data removed]",
      "text/plain": [
       "<Figure size 432x288 with 1 Axes>"
      ]
     },
     "metadata": {
      "needs_background": "light"
     },
     "output_type": "display_data"
    }
   ],
   "source": [
    "plt.imshow(cifar_test_data[idx])\n",
    "plt.savefig(cifar_test_filenames[idx])"
   ]
  },
  {
   "cell_type": "code",
   "execution_count": 219,
   "id": "0e742a58",
   "metadata": {},
   "outputs": [],
   "source": [
    "mean=[0.4914, 0.4822, 0.4465]\n",
    "std=[0.247, 0.243, 0.261]\n",
    "\n",
    "\n",
    "#img = Image.open(\"/data/data_ustv/home/ydou8/Course/CS766/data/ILSVRC2012/val/n04228054/ILSVRC2012_val_00000568.JPEG\")\n",
    "img = Image.fromarray(cifar_test_data[idx ].astype('uint8'), 'RGB')\n",
    "#img = F_.resize(img, (32, 32), interpolation=2)\n",
    "img = F_.to_tensor(img)\n",
    "input = (F_.normalize(img, mean=mean, std=std)[None,:]).cuda()\n",
    "input_ = img[None,:].cuda()"
   ]
  },
  {
   "cell_type": "code",
   "execution_count": 220,
   "id": "45e448dd",
   "metadata": {},
   "outputs": [],
   "source": [
    "shift = np.random.randint(-3, 3, 2)\n",
    "                \n",
    "shifted_image_batch = torch.roll(input, shifts = (shift[0], shift[1]), dims = (2, 3))\n",
    "shifted_image_batch_ = torch.roll(input_, shifts = (shift[0], shift[1]), dims = (2, 3))"
   ]
  },
  {
   "cell_type": "code",
   "execution_count": 234,
   "id": "9b892aa9",
   "metadata": {},
   "outputs": [
    {
     "data": {
      "image/png": "[encoded data removed]",
      "text/plain": [
       "<Figure size 432x288 with 1 Axes>"
      ]
     },
     "metadata": {
      "needs_background": "light"
     },
     "output_type": "display_data"
    }
   ],
   "source": [
    "plt.imshow(shifted_image_batch_[0].permute(1, 2,0).cpu().numpy())\n",
    "plt.savefig('shifted_'+cifar_test_filenames[idx].decode('utf-8'))"
   ]
  },
  {
   "cell_type": "code",
   "execution_count": 222,
   "id": "c848aca0",
   "metadata": {},
   "outputs": [],
   "source": [
    "from model_classes.lpf_models_up.resnet import resnet18_lpf_up"
   ]
  },
  {
   "cell_type": "code",
   "execution_count": 223,
   "id": "78f8a89a",
   "metadata": {},
   "outputs": [],
   "source": [
    "model_dict = {'conv_pad_type': 'circular',\n",
    "                  'dataset_to_train': 'cifar10',\n",
    "                  'pretrained': False,\n",
    "                 'filter_size': 3,\n",
    "                 'layer_channels':[64, 128, 256, 512]}"
   ]
  },
  {
   "cell_type": "code",
   "execution_count": 224,
   "id": "ad248a7d",
   "metadata": {},
   "outputs": [
    {
     "data": {
      "text/plain": [
       "<All keys matched successfully>"
      ]
     },
     "execution_count": 224,
     "metadata": {},
     "output_type": "execute_result"
    }
   ],
   "source": [
    "weights_ = '/data/data_ustv/home/ydou8/Course/truly_shift_invariant_cnns/model_ouput/models/model_and_optim_checkpoint.pt'\n",
    "weights = torch.load(weights_)\n",
    "model.load_state_dict(weights['model'])"
   ]
  },
  {
   "cell_type": "code",
   "execution_count": 225,
   "id": "0bef1b1a",
   "metadata": {},
   "outputs": [],
   "source": [
    "name_ = ['airplane', 'automobile','bird','cat','deer', 'dog','frog','horse','ship','truck']"
   ]
  },
  {
   "cell_type": "code",
   "execution_count": 226,
   "id": "740168a5",
   "metadata": {},
   "outputs": [],
   "source": [
    "model.eval()\n",
    "with torch.no_grad():\n",
    "    output_labels = model(shifted_image_batch.cpu())\n",
    "    output = torch.nn.Softmax(dim=1)(output_labels )\n",
    "    output_sort, output_argsort = torch.sort(output, dim=1, descending=True)"
   ]
  },
  {
   "cell_type": "code",
   "execution_count": 227,
   "id": "28ed19d7",
   "metadata": {},
   "outputs": [
    {
     "data": {
      "text/plain": [
       "(tensor([[0.9145, 0.0644, 0.0044, 0.0042, 0.0036, 0.0023, 0.0017, 0.0017, 0.0017,\n",
       "          0.0016]]),\n",
       " tensor([[6, 2, 0, 5, 8, 4, 7, 3, 9, 1]]))"
      ]
     },
     "execution_count": 227,
     "metadata": {},
     "output_type": "execute_result"
    }
   ],
   "source": [
    "output_sort, output_argsort"
   ]
  },
  {
   "cell_type": "code",
   "execution_count": 228,
   "id": "2f721aa3",
   "metadata": {},
   "outputs": [
    {
     "data": {
      "image/png": "[encoded data removed]",
      "text/plain": [
       "<Figure size 432x288 with 1 Axes>"
      ]
     },
     "metadata": {
      "needs_background": "light"
     },
     "output_type": "display_data"
    }
   ],
   "source": [
    "fig, ax = plt.subplots()\n",
    "ax = sns.barplot(x=[name_[i] for i in output_argsort.numpy()[0][:5] ], y=output_sort.numpy()[0][:5])\n",
    "plt.savefig('shifted_bar_'+cifar_test_filenames[idx].decode('utf-8'))"
   ]
  },
  {
   "cell_type": "code",
   "execution_count": 229,
   "id": "7be6b5a1",
   "metadata": {},
   "outputs": [],
   "source": [
    "model.eval()\n",
    "with torch.no_grad():\n",
    "    output_labels = model(input.cpu())"
   ]
  },
  {
   "cell_type": "code",
   "execution_count": 230,
   "id": "bf678c1f",
   "metadata": {},
   "outputs": [
    {
     "data": {
      "text/plain": [
       "(tensor([[9.8230e-01, 8.8334e-03, 2.2168e-03, 1.2321e-03, 1.0277e-03, 9.4497e-04,\n",
       "          9.3071e-04, 8.8996e-04, 8.3943e-04, 7.8356e-04]]),\n",
       " tensor([[6, 2, 5, 4, 0, 8, 9, 1, 7, 3]]))"
      ]
     },
     "execution_count": 230,
     "metadata": {},
     "output_type": "execute_result"
    }
   ],
   "source": [
    "output = torch.nn.Softmax(dim=1)(output_labels )\n",
    "output_sort, output_argsort = torch.sort(output, dim=1, descending=True)\n",
    "output_sort, output_argsort"
   ]
  },
  {
   "cell_type": "code",
   "execution_count": 231,
   "id": "8776d1bc",
   "metadata": {},
   "outputs": [
    {
     "data": {
      "image/png": "[encoded data removed]",
      "text/plain": [
       "<Figure size 432x288 with 1 Axes>"
      ]
     },
     "metadata": {
      "needs_background": "light"
     },
     "output_type": "display_data"
    }
   ],
   "source": [
    "fig, ax = plt.subplots()\n",
    "ax = sns.barplot(x=[name_[i] for i in output_argsort.numpy()[0][:5] ], y=output_sort.numpy()[0][:5])\n",
    "plt.savefig('bar_'+cifar_test_filenames[idx].decode('utf-8'))"
   ]
  },
  {
   "cell_type": "code",
   "execution_count": null,
   "id": "f0cbd83f",
   "metadata": {},
   "outputs": [],
   "source": []
  }
 ],
 "metadata": {
  "kernelspec": {
   "display_name": "Python 3 (ipykernel)",
   "language": "python",
   "name": "python3"
  },
  "language_info": {
   "codemirror_mode": {
    "name": "ipython",
    "version": 3
   },
   "file_extension": ".py",
   "mimetype": "text/x-python",
   "name": "python",
   "nbconvert_exporter": "python",
   "pygments_lexer": "ipython3",
   "version": "3.8.8"
  }
 },
 "nbformat": 4,
 "nbformat_minor": 5
}
