{
 "cells": [
  {
   "cell_type": "code",
   "execution_count": 375,
   "id": "294d41fe",
   "metadata": {},
   "outputs": [],
   "source": [
    "from PIL import Image\n",
    "import argparse\n",
    "import torchvision.transforms.functional as F_\n",
    "import torch\n",
    "import torch.nn as nn\n",
    "import torch.backends.cudnn as cudnn\n",
    "import torch.optim as optim\n",
    "import torch.nn.functional as F\n",
    "import seaborn as sns\n",
    "import torchvision\n",
    "import torchvision.transforms as transforms\n",
    "\n",
    "import matplotlib.pyplot as plt\n",
    "import numpy as np\n",
    "from matplotlib import cm\n",
    "\n",
    "import sys\n",
    "import os\n",
    "import argparse\n",
    "import random\n",
    "import pickle\n",
    "\n",
    "module_path = os.path.abspath(os.path.join('/data/data_ustv/home/ydou8/Course/truly_shift_invariant_cnns/cifar10_training/'))\n",
    "if module_path not in sys.path:\n",
    "    sys.path.append(module_path)\n",
    "\n",
    "\n",
    "\n",
    "import model_classes\n",
    "\n",
    "from utils.model_functions import compute_num_params\n",
    "from utils.plot_functions import plot_save_train_val_list\n",
    "from utils.file_functions import create_folders_direct_path\n",
    "from utils.for_circular_pad_exps.get_dataloaders_circular import get_dataloaders_circular\n",
    "\n",
    "from utils.for_circular_pad_exps.train_validate_circular import train_and_validate_circular_all_epochs, evaluate_circular, evaluate_circular_flip, evaluate_circular_random_erase\n"
   ]
  },
  {
   "cell_type": "code",
   "execution_count": 2,
   "id": "8b8a1b90",
   "metadata": {},
   "outputs": [],
   "source": [
    "def unpickle(file):\n",
    "    import pickle\n",
    "    with open(file, 'rb') as fo:\n",
    "        dict = pickle.load(fo, encoding='bytes')\n",
    "    return dict"
   ]
  },
  {
   "cell_type": "code",
   "execution_count": 3,
   "id": "4da9dde1",
   "metadata": {},
   "outputs": [],
   "source": [
    "test_data = unpickle('/data/data_ustv/home/ydou8/Course/CS766/data/cifar-10-batches-py/test_batch')"
   ]
  },
  {
   "cell_type": "code",
   "execution_count": 4,
   "id": "cabc57a2",
   "metadata": {},
   "outputs": [],
   "source": [
    "cifar_test_filenames = test_data[b'filenames']\n",
    "cifar_test_labels = test_data[b'labels']\n",
    "cifar_test_data = test_data[b'data']\n",
    "cifar_test_data  = cifar_test_data .reshape((len(cifar_test_data ), 3, 32, 32)).transpose(0, 2, 3, 1)"
   ]
  },
  {
   "cell_type": "code",
   "execution_count": 528,
   "id": "230e485d",
   "metadata": {},
   "outputs": [
    {
     "data": {
      "text/plain": [
       "(b'hydrofoil_s_000078.png', 8)"
      ]
     },
     "execution_count": 528,
     "metadata": {},
     "output_type": "execute_result"
    }
   ],
   "source": [
    "cifar_test_filenames[1], cifar_test_labels[1]"
   ]
  },
  {
   "cell_type": "code",
   "execution_count": 556,
   "id": "7f5fbdb4",
   "metadata": {},
   "outputs": [
    {
     "data": {
      "image/png": "[encoded data removed]",
      "text/plain": [
       "<Figure size 432x288 with 1 Axes>"
      ]
     },
     "metadata": {
      "needs_background": "light"
     },
     "output_type": "display_data"
    }
   ],
   "source": [
    "plt.imshow(cifar_test_data[1])\n",
    "plt.savefig('hydrofoil_s_000078.png')"
   ]
  },
  {
   "cell_type": "code",
   "execution_count": 557,
   "id": "2db75d47",
   "metadata": {},
   "outputs": [],
   "source": [
    "mean=[0.4914, 0.4822, 0.4465]\n",
    "std=[0.247, 0.243, 0.261]\n",
    "\n",
    "\n",
    "#img = Image.open(\"/data/data_ustv/home/ydou8/Course/CS766/data/ILSVRC2012/val/n04228054/ILSVRC2012_val_00000568.JPEG\")\n",
    "img = Image.fromarray(cifar_test_data[1].astype('uint8'), 'RGB')\n",
    "#img = F_.resize(img, (32, 32), interpolation=2)\n",
    "img = F_.to_tensor(img)\n",
    "input = (F_.normalize(img, mean=mean, std=std)[None,:]).cuda()\n",
    "input_ = img[None,:].cuda()"
   ]
  },
  {
   "cell_type": "code",
   "execution_count": 558,
   "id": "fa1c9b9a",
   "metadata": {},
   "outputs": [],
   "source": [
    "shift = np.random.randint(-3, 3, 2)\n",
    "                \n",
    "shifted_image_batch = torch.roll(input, shifts = (shift[0], shift[1]), dims = (2, 3))\n",
    "shifted_image_batch_ = torch.roll(input_, shifts = (shift[0], shift[1]), dims = (2, 3))"
   ]
  },
  {
   "cell_type": "code",
   "execution_count": 559,
   "id": "23bf9d3e",
   "metadata": {},
   "outputs": [
    {
     "data": {
      "image/png": "[encoded data removed]",
      "text/plain": [
       "<Figure size 432x288 with 1 Axes>"
      ]
     },
     "metadata": {
      "needs_background": "light"
     },
     "output_type": "display_data"
    }
   ],
   "source": [
    "plt.imshow(shifted_image_batch_[0].permute(1, 2,0).cpu().numpy())\n",
    "plt.savefig('hydrofoil_s_000078_shift.png')"
   ]
  },
  {
   "cell_type": "code",
   "execution_count": 560,
   "id": "37a88e90",
   "metadata": {},
   "outputs": [],
   "source": [
    "from model_classes.lpf_models.resnet import resnet18_lpf"
   ]
  },
  {
   "cell_type": "code",
   "execution_count": 561,
   "id": "e7dd46b9",
   "metadata": {},
   "outputs": [],
   "source": [
    "model_dict = {'conv_pad_type': 'circular',\n",
    "                  'dataset_to_train': 'cifar10',\n",
    "                  'pretrained': False,\n",
    "                 'filter_size': 3,\n",
    "                 'layer_channels':[64, 128, 256, 512]}"
   ]
  },
  {
   "cell_type": "code",
   "execution_count": 562,
   "id": "dda0c65c",
   "metadata": {},
   "outputs": [
    {
     "name": "stdout",
     "output_type": "stream",
     "text": [
      "Loading Resnet18_lpf\n",
      "\n"
     ]
    },
    {
     "data": {
      "text/plain": [
       "tensor([1., 1., 1., 1., 1., 1., 1., 1., 1., 1., 1., 1., 1., 1., 1., 1., 1., 1.,\n",
       "        1., 1., 1., 1., 1., 1., 1., 1., 1., 1., 1., 1., 1., 1., 1., 1., 1., 1.,\n",
       "        1., 1., 1., 1., 1., 1., 1., 1., 1., 1., 1., 1., 1., 1., 1., 1., 1., 1.,\n",
       "        1., 1., 1., 1., 1., 1., 1., 1., 1., 1.])"
      ]
     },
     "execution_count": 562,
     "metadata": {},
     "output_type": "execute_result"
    }
   ],
   "source": [
    "model = eval('resnet18_lpf')(**model_dict)\n",
    "model.state_dict()['bn1.weight']"
   ]
  },
  {
   "cell_type": "code",
   "execution_count": 563,
   "id": "b25f57d4",
   "metadata": {},
   "outputs": [
    {
     "data": {
      "text/plain": [
       "<All keys matched successfully>"
      ]
     },
     "execution_count": 563,
     "metadata": {},
     "output_type": "execute_result"
    }
   ],
   "source": [
    "weights_ = '/data/data_ustv/home/ydou8/Course/truly_shift_invariant_cnns/model_ouput/models/model_and_optim_checkpoint.pt'\n",
    "weights = torch.load(weights_)\n",
    "model.load_state_dict(weights['model'])"
   ]
  },
  {
   "cell_type": "code",
   "execution_count": 564,
   "id": "1dbb6ab5",
   "metadata": {},
   "outputs": [
    {
     "data": {
      "text/plain": [
       "tensor([ 3.6768e-03,  2.7404e-05,  1.1772e-01,  3.2731e-03,  7.6252e-02,\n",
       "         1.1288e-02,  1.4317e-01,  1.1152e-01,  7.2214e-02,  1.4936e-05,\n",
       "         1.1659e-05,  9.0587e-02,  4.4363e-05,  3.0625e-05,  8.0744e-02,\n",
       "         3.1624e-05,  8.5481e-05,  5.3844e-05,  1.5035e-05,  6.3450e-04,\n",
       "         7.3095e-04,  1.1848e-01,  3.6907e-05,  1.0924e-05,  7.3802e-02,\n",
       "         4.7108e-04,  1.3812e-01,  1.2289e-01,  1.8936e-04,  9.3929e-06,\n",
       "         1.1098e-05,  1.3906e-01,  8.9732e-02,  4.1772e-02,  4.4862e-06,\n",
       "         3.8412e-06,  9.4282e-02,  9.9301e-02,  1.3942e-01,  5.9015e-02,\n",
       "         1.0504e-01,  9.7381e-05,  9.8533e-06,  5.9241e-03,  9.9493e-02,\n",
       "         6.6868e-05,  3.1281e-05,  2.1100e-04,  1.4102e-05,  9.6382e-02,\n",
       "         1.3454e-05,  5.4655e-06,  6.5730e-02,  1.3261e-01,  6.1525e-04,\n",
       "         2.4315e-06,  2.7142e-02,  1.4047e-01,  3.0916e-05,  3.6843e-06,\n",
       "         3.5991e-04,  1.2035e-01,  1.5864e-01, -2.2865e-06])"
      ]
     },
     "execution_count": 564,
     "metadata": {},
     "output_type": "execute_result"
    }
   ],
   "source": [
    "model.eval()\n",
    "model.state_dict()['bn1.weight']"
   ]
  },
  {
   "cell_type": "code",
   "execution_count": 565,
   "id": "e4829c61",
   "metadata": {},
   "outputs": [],
   "source": [
    "model.eval()\n",
    "with torch.no_grad():\n",
    "    output_labels = model(shifted_image_batch_.cpu())"
   ]
  },
  {
   "cell_type": "code",
   "execution_count": 566,
   "id": "c2a217d3",
   "metadata": {},
   "outputs": [],
   "source": [
    "output = torch.nn.Softmax(dim=1)(output_labels )"
   ]
  },
  {
   "cell_type": "code",
   "execution_count": 567,
   "id": "4013ec6f",
   "metadata": {},
   "outputs": [],
   "source": [
    "output_sort, output_argsort = torch.sort(output, dim=1, descending=True)"
   ]
  },
  {
   "cell_type": "code",
   "execution_count": 568,
   "id": "13dd152a",
   "metadata": {},
   "outputs": [
    {
     "data": {
      "text/plain": [
       "(tensor([[0.3406, 0.3024, 0.1540, 0.0535, 0.0378, 0.0332, 0.0235, 0.0216, 0.0198,\n",
       "          0.0135]]),\n",
       " tensor([[8, 0, 3, 4, 6, 9, 5, 2, 1, 7]]))"
      ]
     },
     "execution_count": 568,
     "metadata": {},
     "output_type": "execute_result"
    }
   ],
   "source": [
    "output_sort, output_argsort"
   ]
  },
  {
   "cell_type": "code",
   "execution_count": 569,
   "id": "55508fa3",
   "metadata": {},
   "outputs": [],
   "source": [
    "name_ = ['airplane', 'automobile','bird','cat','deer', 'dog','frog','horse','ship','truck']"
   ]
  },
  {
   "cell_type": "code",
   "execution_count": 570,
   "id": "98cdf7cf",
   "metadata": {},
   "outputs": [
    {
     "data": {
      "text/plain": [
       "['ship', 'airplane', 'cat', 'deer', 'frog']"
      ]
     },
     "execution_count": 570,
     "metadata": {},
     "output_type": "execute_result"
    }
   ],
   "source": [
    "[name_[i] for i in output_argsort.numpy()[0][:5] ]"
   ]
  },
  {
   "cell_type": "code",
   "execution_count": 571,
   "id": "a47ff0b6",
   "metadata": {},
   "outputs": [
    {
     "data": {
      "text/plain": [
       "array([8, 0, 3, 4, 6])"
      ]
     },
     "execution_count": 571,
     "metadata": {},
     "output_type": "execute_result"
    }
   ],
   "source": [
    "output_argsort.numpy()[0][:5]"
   ]
  },
  {
   "cell_type": "code",
   "execution_count": 572,
   "id": "8e2869fa",
   "metadata": {},
   "outputs": [
    {
     "data": {
      "image/png": "[encoded data removed]",
      "text/plain": [
       "<Figure size 432x288 with 1 Axes>"
      ]
     },
     "metadata": {
      "needs_background": "light"
     },
     "output_type": "display_data"
    }
   ],
   "source": [
    "fig, ax = plt.subplots()\n",
    "ax = sns.barplot(x=[name_[i] for i in output_argsort.numpy()[0][:5] ], y=output_sort.numpy()[0][:5])\n",
    "plt.savefig('hydrofoil_s_000078_bar_shift.png')"
   ]
  },
  {
   "cell_type": "code",
   "execution_count": null,
   "id": "41a90c3d",
   "metadata": {},
   "outputs": [],
   "source": [
    "model.eval()\n",
    "with torch.no_grad():\n",
    "    output_labels = model(input.cpu())"
   ]
  },
  {
   "cell_type": "code",
   "execution_count": null,
   "id": "c03261c9",
   "metadata": {},
   "outputs": [],
   "source": []
  }
 ],
 "metadata": {
  "kernelspec": {
   "display_name": "Python 3 (ipykernel)",
   "language": "python",
   "name": "python3"
  },
  "language_info": {
   "codemirror_mode": {
    "name": "ipython",
    "version": 3
   },
   "file_extension": ".py",
   "mimetype": "text/x-python",
   "name": "python",
   "nbconvert_exporter": "python",
   "pygments_lexer": "ipython3",
   "version": "3.8.8"
  }
 },
 "nbformat": 4,
 "nbformat_minor": 5
}
